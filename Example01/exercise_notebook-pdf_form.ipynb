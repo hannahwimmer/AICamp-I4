{
 "cells": [
  {
   "cell_type": "markdown",
   "id": "20455261",
   "metadata": {},
   "source": [
    "# Simple PDF Form Analyzer\n",
    "\n",
    "The following sections will demonstrate how to:\n",
    "1. load a standard corporate PDF form (e.g., onboarding, invoice, feedback form).\n",
    "2. extract specific information using PyPDF2.\n",
    "3. save the data to a specific location\n",
    "\n",
    "\n",
    "We want to show you how to easily **implement a pipeline** that takes on mundane chores for you, and how to do this in a nice, **user-friendly interface**.\n"
   ]
  },
  {
   "cell_type": "markdown",
   "id": "59f17074",
   "metadata": {},
   "source": [
    "## Loading a PDF form\n",
    "\n",
    "First off, we need to somehow read the PDF into Python. To do that, we'll use [PyPDF2](https://pypdf2.readthedocs.io/en/3.0.0/modules/PdfReader.html#PyPDF2.PdfReader.get_fields).\n",
    "\n",
    "Here's how that looks like:"
   ]
  },
  {
   "cell_type": "code",
   "execution_count": 35,
   "id": "d539e06e",
   "metadata": {},
   "outputs": [
    {
     "name": "stdout",
     "output_type": "stream",
     "text": [
      "{'Reporting Month': 'August 2025', 'Corporation Name': 'Important Company Association Co', 'Registered Agent': 'Luna Lovegood', 'Registered Agent ID': 'HRM20-1021', 'Registered Department': 'Human Ressource Management', 'City ZIP County': 'Important Village, 93915, Nonimportance County', 'Job Title': 'Legal Counselor ', 'NameRow1': 'Project AA', 'DescriptionRow1': 'Important Management Stuff', 'Starting DateRow1': '01.04.2021', 'Ending DateRow1': '31.03.2031', 'NameRow2': 'Project CA', 'DescriptionRow2': 'Important Legal Stuff', 'Starting DateRow2': '01.04.2018', 'Ending DateRow2': '01.10.2021', 'NameRow3': 'Project DA', 'DescriptionRow3': 'Unimportant Management Stuff', 'Starting DateRow3': '01.02.2016', 'Ending DateRow3': '01.04.2018', 'NameRow4': 'Project AD', 'DescriptionRow4': 'Legal and Management Stuff', 'Starting DateRow4': '01.04.2018', 'Ending DateRow4': '01.12.2025', 'NameRow5': '', 'DescriptionRow5': '', 'Starting DateRow5': '', 'Ending DateRow5': '', 'NameRow6': '', 'DescriptionRow6': '', 'Starting DateRow6': '', 'Ending DateRow6': '', 'Brief statement of type of business of the corporation': 'Important Management and Legal Stuff', 'Have there been any business trips': '/No', 'If yes provide destination and duration': '-', 'Are there additional documents for a reimbursement to consider': '/No_2', 'Date of Incorporation/Qualiﬁcation': '01.08.2015', 'Total working hours': '150', 'Progress summary': 'Not much progress', 'File Number': '526-315-18'}\n"
     ]
    }
   ],
   "source": [
    "from PyPDF2 import PdfReader\n",
    "\n",
    "pdf_path = \"data/report_lovegood.pdf\"   # we set the file path\n",
    "reader = PdfReader(pdf_path)            # initialize a PyPDF2 PdfReader class instance \n",
    "\n",
    "fields = reader.get_fields()            # extract field data if this PDF contains interactive form fields\n",
    "data = {key: value.get('/V', '') for key, value in fields.items()}\n",
    "\n",
    "# --------------------\n",
    "# some info:\n",
    "# field is a dict with several keys; key \"/V\" stores the value (what the user entered),\n",
    "# key \"/T\" stores the field's title, \"FT\" what field type, etc. We only want the value.\n",
    "# -----------------------------------------------\n",
    "\n",
    "\n",
    "# let's take a look how the data dict looks like:\n",
    "print(data)    "
   ]
  },
  {
   "cell_type": "markdown",
   "id": "5c913a81",
   "metadata": {},
   "source": [
    "## Clean the data\n",
    "\n",
    "Now we extracted the text in a *somewhat* structured form, but we've got several issues:\n",
    "\n",
    "- some fields are empty; information is useless to us\n",
    "- the 'Yes'/'No' answers have a weird formatting\n",
    "- some information is related; NameRow, DescriptionRow, etc. all refer to a table and cannot be seen independently.\n",
    "\n",
    "As a next step, we thus want to clean the data. Here's how we do this."
   ]
  },
  {
   "cell_type": "code",
   "execution_count": 36,
   "id": "b67f2378",
   "metadata": {},
   "outputs": [],
   "source": [
    "import pandas as pd\n",
    "import numpy as np\n",
    "\n",
    "# 1. remove empty fields\n",
    "data = pd.DataFrame([data])                 # load data into a pandas dataframe\n",
    "data = data.loc[:, ~(data == '').all()]     # remove columns with empty entries\n",
    "data.head()\n",
    "\n",
    "# 2. reformat the Yes/No outputs\n",
    "for key, value in data.items():\n",
    "    val = value[0]  # the actual cell value\n",
    "    choices = [\"Yes\", \"No\"]\n",
    "    one_word = len(str(val).split()) < 2\n",
    "    mask = [name in str(val) for name in choices if one_word]\n",
    "    if any(mask):\n",
    "        choice = choices[np.where(mask)[0][0]]\n",
    "    else:\n",
    "        choice = val\n",
    "    data.at[0, key] = choice\n",
    "data.head()\n",
    "\n",
    "# 3. separate information into metadata and tabular data\n",
    "metadata = {}\n",
    "row_data = {}\n",
    "\n",
    "for key, value in data.items():\n",
    "    \n",
    "    if \"Row\" in key:    # if \"Row\" is part of the key name, we know it must be tabular data\n",
    "        \n",
    "        # go through all the possible prefixes we had\n",
    "        for prefix in [\"NameRow\", \"DescriptionRow\", \"Starting DateRow\", \"Ending DateRow\"]:\n",
    "\n",
    "            if key.startswith(prefix):\n",
    "\n",
    "                # remove the 'Row' from the prefix -> line number remains\n",
    "                field_name = prefix.replace(\"Row\", \"\")\n",
    "\n",
    "                # remove the \"NameRow\", \"DescriptionRow\", etc. from the key name -> only the row number remains\n",
    "                row_idx = key.replace(prefix, \"\")\n",
    "                if row_idx.isdigit():\n",
    "                    row_idx = int(row_idx)\n",
    "                    if row_idx not in row_data:\n",
    "                        row_data[row_idx] = {}\n",
    "                    row_data[row_idx][field_name] = value[0]\n",
    "                break\n",
    "    # if not, it must be regular metadata\n",
    "    else:\n",
    "        metadata[key] = value[0]\n",
    "\n",
    "# Convert row_data into DataFrame\n",
    "tabulardata_df = pd.DataFrame.from_dict(row_data, orient=\"index\").dropna(how=\"all\")\n",
    "metadata_df = pd.DataFrame.from_dict(metadata, orient=\"index\").dropna(how=\"all\")"
   ]
  },
  {
   "cell_type": "code",
   "execution_count": 37,
   "id": "264c335a",
   "metadata": {},
   "outputs": [
    {
     "data": {
      "application/vnd.microsoft.datawrangler.viewer.v0+json": {
       "columns": [
        {
         "name": "index",
         "rawType": "int64",
         "type": "integer"
        },
        {
         "name": "Name",
         "rawType": "object",
         "type": "string"
        },
        {
         "name": "Description",
         "rawType": "object",
         "type": "string"
        },
        {
         "name": "Starting Date",
         "rawType": "object",
         "type": "string"
        },
        {
         "name": "Ending Date",
         "rawType": "object",
         "type": "string"
        }
       ],
       "ref": "79b415d1-6a68-4c6f-acfc-dadd282f5184",
       "rows": [
        [
         "1",
         "Project AA",
         "Important Management Stuff",
         "01.04.2021",
         "31.03.2031"
        ],
        [
         "2",
         "Project CA",
         "Important Legal Stuff",
         "01.04.2018",
         "01.10.2021"
        ],
        [
         "3",
         "Project DA",
         "Unimportant Management Stuff",
         "01.02.2016",
         "01.04.2018"
        ],
        [
         "4",
         "Project AD",
         "Legal and Management Stuff",
         "01.04.2018",
         "01.12.2025"
        ]
       ],
       "shape": {
        "columns": 4,
        "rows": 4
       }
      },
      "text/html": [
       "<div>\n",
       "<style scoped>\n",
       "    .dataframe tbody tr th:only-of-type {\n",
       "        vertical-align: middle;\n",
       "    }\n",
       "\n",
       "    .dataframe tbody tr th {\n",
       "        vertical-align: top;\n",
       "    }\n",
       "\n",
       "    .dataframe thead th {\n",
       "        text-align: right;\n",
       "    }\n",
       "</style>\n",
       "<table border=\"1\" class=\"dataframe\">\n",
       "  <thead>\n",
       "    <tr style=\"text-align: right;\">\n",
       "      <th></th>\n",
       "      <th>Name</th>\n",
       "      <th>Description</th>\n",
       "      <th>Starting Date</th>\n",
       "      <th>Ending Date</th>\n",
       "    </tr>\n",
       "  </thead>\n",
       "  <tbody>\n",
       "    <tr>\n",
       "      <th>1</th>\n",
       "      <td>Project AA</td>\n",
       "      <td>Important Management Stuff</td>\n",
       "      <td>01.04.2021</td>\n",
       "      <td>31.03.2031</td>\n",
       "    </tr>\n",
       "    <tr>\n",
       "      <th>2</th>\n",
       "      <td>Project CA</td>\n",
       "      <td>Important Legal Stuff</td>\n",
       "      <td>01.04.2018</td>\n",
       "      <td>01.10.2021</td>\n",
       "    </tr>\n",
       "    <tr>\n",
       "      <th>3</th>\n",
       "      <td>Project DA</td>\n",
       "      <td>Unimportant Management Stuff</td>\n",
       "      <td>01.02.2016</td>\n",
       "      <td>01.04.2018</td>\n",
       "    </tr>\n",
       "    <tr>\n",
       "      <th>4</th>\n",
       "      <td>Project AD</td>\n",
       "      <td>Legal and Management Stuff</td>\n",
       "      <td>01.04.2018</td>\n",
       "      <td>01.12.2025</td>\n",
       "    </tr>\n",
       "  </tbody>\n",
       "</table>\n",
       "</div>"
      ],
      "text/plain": [
       "         Name                   Description Starting Date Ending Date\n",
       "1  Project AA    Important Management Stuff    01.04.2021  31.03.2031\n",
       "2  Project CA         Important Legal Stuff    01.04.2018  01.10.2021\n",
       "3  Project DA  Unimportant Management Stuff    01.02.2016  01.04.2018\n",
       "4  Project AD    Legal and Management Stuff    01.04.2018  01.12.2025"
      ]
     },
     "execution_count": 37,
     "metadata": {},
     "output_type": "execute_result"
    }
   ],
   "source": [
    "tabulardata_df.head()"
   ]
  },
  {
   "cell_type": "code",
   "execution_count": 39,
   "id": "53256b02",
   "metadata": {},
   "outputs": [
    {
     "data": {
      "application/vnd.microsoft.datawrangler.viewer.v0+json": {
       "columns": [
        {
         "name": "index",
         "rawType": "object",
         "type": "string"
        },
        {
         "name": "0",
         "rawType": "object",
         "type": "string"
        }
       ],
       "ref": "6117793c-37fe-4f33-8b9e-af8a92a33120",
       "rows": [
        [
         "Reporting Month",
         "August 2025"
        ],
        [
         "Corporation Name",
         "Important Company Association Co"
        ],
        [
         "Registered Agent",
         "Luna Lovegood"
        ],
        [
         "Registered Agent ID",
         "HRM20-1021"
        ],
        [
         "Registered Department",
         "Human Ressource Management"
        ],
        [
         "City ZIP County",
         "Important Village, 93915, Nonimportance County"
        ],
        [
         "Job Title",
         "Legal Counselor "
        ],
        [
         "Brief statement of type of business of the corporation",
         "Important Management and Legal Stuff"
        ],
        [
         "Have there been any business trips",
         "No"
        ],
        [
         "If yes provide destination and duration",
         "-"
        ],
        [
         "Are there additional documents for a reimbursement to consider",
         "No"
        ],
        [
         "Date of Incorporation/Qualiﬁcation",
         "01.08.2015"
        ],
        [
         "Total working hours",
         "150"
        ],
        [
         "Progress summary",
         "Not much progress"
        ],
        [
         "File Number",
         "526-315-18"
        ]
       ],
       "shape": {
        "columns": 1,
        "rows": 15
       }
      },
      "text/html": [
       "<div>\n",
       "<style scoped>\n",
       "    .dataframe tbody tr th:only-of-type {\n",
       "        vertical-align: middle;\n",
       "    }\n",
       "\n",
       "    .dataframe tbody tr th {\n",
       "        vertical-align: top;\n",
       "    }\n",
       "\n",
       "    .dataframe thead th {\n",
       "        text-align: right;\n",
       "    }\n",
       "</style>\n",
       "<table border=\"1\" class=\"dataframe\">\n",
       "  <thead>\n",
       "    <tr style=\"text-align: right;\">\n",
       "      <th></th>\n",
       "      <th>0</th>\n",
       "    </tr>\n",
       "  </thead>\n",
       "  <tbody>\n",
       "    <tr>\n",
       "      <th>Reporting Month</th>\n",
       "      <td>August 2025</td>\n",
       "    </tr>\n",
       "    <tr>\n",
       "      <th>Corporation Name</th>\n",
       "      <td>Important Company Association Co</td>\n",
       "    </tr>\n",
       "    <tr>\n",
       "      <th>Registered Agent</th>\n",
       "      <td>Luna Lovegood</td>\n",
       "    </tr>\n",
       "    <tr>\n",
       "      <th>Registered Agent ID</th>\n",
       "      <td>HRM20-1021</td>\n",
       "    </tr>\n",
       "    <tr>\n",
       "      <th>Registered Department</th>\n",
       "      <td>Human Ressource Management</td>\n",
       "    </tr>\n",
       "    <tr>\n",
       "      <th>City ZIP County</th>\n",
       "      <td>Important Village, 93915, Nonimportance County</td>\n",
       "    </tr>\n",
       "    <tr>\n",
       "      <th>Job Title</th>\n",
       "      <td>Legal Counselor</td>\n",
       "    </tr>\n",
       "    <tr>\n",
       "      <th>Brief statement of type of business of the corporation</th>\n",
       "      <td>Important Management and Legal Stuff</td>\n",
       "    </tr>\n",
       "    <tr>\n",
       "      <th>Have there been any business trips</th>\n",
       "      <td>No</td>\n",
       "    </tr>\n",
       "    <tr>\n",
       "      <th>If yes provide destination and duration</th>\n",
       "      <td>-</td>\n",
       "    </tr>\n",
       "    <tr>\n",
       "      <th>Are there additional documents for a reimbursement to consider</th>\n",
       "      <td>No</td>\n",
       "    </tr>\n",
       "    <tr>\n",
       "      <th>Date of Incorporation/Qualiﬁcation</th>\n",
       "      <td>01.08.2015</td>\n",
       "    </tr>\n",
       "    <tr>\n",
       "      <th>Total working hours</th>\n",
       "      <td>150</td>\n",
       "    </tr>\n",
       "    <tr>\n",
       "      <th>Progress summary</th>\n",
       "      <td>Not much progress</td>\n",
       "    </tr>\n",
       "    <tr>\n",
       "      <th>File Number</th>\n",
       "      <td>526-315-18</td>\n",
       "    </tr>\n",
       "  </tbody>\n",
       "</table>\n",
       "</div>"
      ],
      "text/plain": [
       "                                                                                                 0\n",
       "Reporting Month                                                                        August 2025\n",
       "Corporation Name                                                  Important Company Association Co\n",
       "Registered Agent                                                                     Luna Lovegood\n",
       "Registered Agent ID                                                                     HRM20-1021\n",
       "Registered Department                                                   Human Ressource Management\n",
       "City ZIP County                                     Important Village, 93915, Nonimportance County\n",
       "Job Title                                                                         Legal Counselor \n",
       "Brief statement of type of business of the corp...            Important Management and Legal Stuff\n",
       "Have there been any business trips                                                              No\n",
       "If yes provide destination and duration                                                          -\n",
       "Are there additional documents for a reimbursem...                                              No\n",
       "Date of Incorporation/Qualiﬁcation                                                      01.08.2015\n",
       "Total working hours                                                                            150\n",
       "Progress summary                                                                 Not much progress\n",
       "File Number                                                                             526-315-18"
      ]
     },
     "execution_count": 39,
     "metadata": {},
     "output_type": "execute_result"
    }
   ],
   "source": [
    "metadata_df.head(20)"
   ]
  },
  {
   "cell_type": "markdown",
   "id": "62154acf",
   "metadata": {},
   "source": [
    "## Save the data\n",
    "\n",
    "Lastly, we want to save the data to a results folder, as a `csv`-file.\n",
    "Here's how we do this."
   ]
  },
  {
   "cell_type": "code",
   "execution_count": null,
   "id": "4aad7d64",
   "metadata": {},
   "outputs": [
    {
     "ename": "KeyError",
     "evalue": "0",
     "output_type": "error",
     "traceback": [
      "\u001b[31m---------------------------------------------------------------------------\u001b[39m",
      "\u001b[31mKeyError\u001b[39m                                  Traceback (most recent call last)",
      "\u001b[36mFile \u001b[39m\u001b[32m~/projects/AICamp/Example01/.venv/lib/python3.12/site-packages/pandas/core/indexes/base.py:3812\u001b[39m, in \u001b[36mIndex.get_loc\u001b[39m\u001b[34m(self, key)\u001b[39m\n\u001b[32m   3811\u001b[39m \u001b[38;5;28;01mtry\u001b[39;00m:\n\u001b[32m-> \u001b[39m\u001b[32m3812\u001b[39m     \u001b[38;5;28;01mreturn\u001b[39;00m \u001b[38;5;28;43mself\u001b[39;49m\u001b[43m.\u001b[49m\u001b[43m_engine\u001b[49m\u001b[43m.\u001b[49m\u001b[43mget_loc\u001b[49m\u001b[43m(\u001b[49m\u001b[43mcasted_key\u001b[49m\u001b[43m)\u001b[49m\n\u001b[32m   3813\u001b[39m \u001b[38;5;28;01mexcept\u001b[39;00m \u001b[38;5;167;01mKeyError\u001b[39;00m \u001b[38;5;28;01mas\u001b[39;00m err:\n",
      "\u001b[36mFile \u001b[39m\u001b[32mpandas/_libs/index.pyx:167\u001b[39m, in \u001b[36mpandas._libs.index.IndexEngine.get_loc\u001b[39m\u001b[34m()\u001b[39m\n",
      "\u001b[36mFile \u001b[39m\u001b[32mpandas/_libs/index.pyx:196\u001b[39m, in \u001b[36mpandas._libs.index.IndexEngine.get_loc\u001b[39m\u001b[34m()\u001b[39m\n",
      "\u001b[36mFile \u001b[39m\u001b[32mpandas/_libs/hashtable_class_helper.pxi:7088\u001b[39m, in \u001b[36mpandas._libs.hashtable.PyObjectHashTable.get_item\u001b[39m\u001b[34m()\u001b[39m\n",
      "\u001b[36mFile \u001b[39m\u001b[32mpandas/_libs/hashtable_class_helper.pxi:7096\u001b[39m, in \u001b[36mpandas._libs.hashtable.PyObjectHashTable.get_item\u001b[39m\u001b[34m()\u001b[39m\n",
      "\u001b[31mKeyError\u001b[39m: 0",
      "\nThe above exception was the direct cause of the following exception:\n",
      "\u001b[31mKeyError\u001b[39m                                  Traceback (most recent call last)",
      "\u001b[36mCell\u001b[39m\u001b[36m \u001b[39m\u001b[32mIn[40]\u001b[39m\u001b[32m, line 12\u001b[39m\n\u001b[32m     10\u001b[39m \u001b[38;5;66;03m# save metadata to csv-file\u001b[39;00m\n\u001b[32m     11\u001b[39m metadata_path = os.path.join(save_path, \u001b[33mf\u001b[39m\u001b[33m\"\u001b[39m\u001b[38;5;132;01m{\u001b[39;00mfile_name\u001b[38;5;132;01m}\u001b[39;00m\u001b[33m_metadata.csv\u001b[39m\u001b[33m\"\u001b[39m)\n\u001b[32m---> \u001b[39m\u001b[32m12\u001b[39m \u001b[43mdata\u001b[49m\u001b[43m[\u001b[49m\u001b[32;43m0\u001b[39;49m\u001b[43m]\u001b[49m.to_csv(metadata_path, index=\u001b[38;5;28;01mTrue\u001b[39;00m)\n\u001b[32m     13\u001b[39m \u001b[38;5;28mprint\u001b[39m(\u001b[33m\"\u001b[39m\u001b[33mMetadata saved to:\u001b[39m\u001b[33m\"\u001b[39m, metadata_path)\n\u001b[32m     15\u001b[39m \u001b[38;5;66;03m# save tabular data to csv-file\u001b[39;00m\n",
      "\u001b[36mFile \u001b[39m\u001b[32m~/projects/AICamp/Example01/.venv/lib/python3.12/site-packages/pandas/core/frame.py:4107\u001b[39m, in \u001b[36mDataFrame.__getitem__\u001b[39m\u001b[34m(self, key)\u001b[39m\n\u001b[32m   4105\u001b[39m \u001b[38;5;28;01mif\u001b[39;00m \u001b[38;5;28mself\u001b[39m.columns.nlevels > \u001b[32m1\u001b[39m:\n\u001b[32m   4106\u001b[39m     \u001b[38;5;28;01mreturn\u001b[39;00m \u001b[38;5;28mself\u001b[39m._getitem_multilevel(key)\n\u001b[32m-> \u001b[39m\u001b[32m4107\u001b[39m indexer = \u001b[38;5;28;43mself\u001b[39;49m\u001b[43m.\u001b[49m\u001b[43mcolumns\u001b[49m\u001b[43m.\u001b[49m\u001b[43mget_loc\u001b[49m\u001b[43m(\u001b[49m\u001b[43mkey\u001b[49m\u001b[43m)\u001b[49m\n\u001b[32m   4108\u001b[39m \u001b[38;5;28;01mif\u001b[39;00m is_integer(indexer):\n\u001b[32m   4109\u001b[39m     indexer = [indexer]\n",
      "\u001b[36mFile \u001b[39m\u001b[32m~/projects/AICamp/Example01/.venv/lib/python3.12/site-packages/pandas/core/indexes/base.py:3819\u001b[39m, in \u001b[36mIndex.get_loc\u001b[39m\u001b[34m(self, key)\u001b[39m\n\u001b[32m   3814\u001b[39m     \u001b[38;5;28;01mif\u001b[39;00m \u001b[38;5;28misinstance\u001b[39m(casted_key, \u001b[38;5;28mslice\u001b[39m) \u001b[38;5;129;01mor\u001b[39;00m (\n\u001b[32m   3815\u001b[39m         \u001b[38;5;28misinstance\u001b[39m(casted_key, abc.Iterable)\n\u001b[32m   3816\u001b[39m         \u001b[38;5;129;01mand\u001b[39;00m \u001b[38;5;28many\u001b[39m(\u001b[38;5;28misinstance\u001b[39m(x, \u001b[38;5;28mslice\u001b[39m) \u001b[38;5;28;01mfor\u001b[39;00m x \u001b[38;5;129;01min\u001b[39;00m casted_key)\n\u001b[32m   3817\u001b[39m     ):\n\u001b[32m   3818\u001b[39m         \u001b[38;5;28;01mraise\u001b[39;00m InvalidIndexError(key)\n\u001b[32m-> \u001b[39m\u001b[32m3819\u001b[39m     \u001b[38;5;28;01mraise\u001b[39;00m \u001b[38;5;167;01mKeyError\u001b[39;00m(key) \u001b[38;5;28;01mfrom\u001b[39;00m\u001b[38;5;250m \u001b[39m\u001b[34;01merr\u001b[39;00m\n\u001b[32m   3820\u001b[39m \u001b[38;5;28;01mexcept\u001b[39;00m \u001b[38;5;167;01mTypeError\u001b[39;00m:\n\u001b[32m   3821\u001b[39m     \u001b[38;5;66;03m# If we have a listlike key, _check_indexing_error will raise\u001b[39;00m\n\u001b[32m   3822\u001b[39m     \u001b[38;5;66;03m#  InvalidIndexError. Otherwise we fall through and re-raise\u001b[39;00m\n\u001b[32m   3823\u001b[39m     \u001b[38;5;66;03m#  the TypeError.\u001b[39;00m\n\u001b[32m   3824\u001b[39m     \u001b[38;5;28mself\u001b[39m._check_indexing_error(key)\n",
      "\u001b[31mKeyError\u001b[39m: 0"
     ]
    }
   ],
   "source": [
    "import os\n",
    "\n",
    "save_path = \"data/results\"\n",
    "file_name = \"example\"\n",
    "\n",
    "# create a new directory if it doesn't exist already\n",
    "os.makedirs(save_path, exist_ok=True)\n",
    "\n",
    "\n",
    "# save metadata to csv-file\n",
    "metadata_path = os.path.join(save_path, f\"{file_name}_metadata.csv\")\n",
    "metadata_df.to_csv(metadata_path, index=True)\n",
    "print(\"Metadata saved to:\", metadata_path)\n",
    "\n",
    "# save tabular data to csv-file\n",
    "tabulardata_path = os.path.join(save_path, f\"{file_name}_tabulardata.csv\")\n",
    "tabulardata_df.to_csv(tabulardata_path, index=True)\n",
    "print(\"Tabular data saved to:\", tabulardata_path)\n"
   ]
  }
 ],
 "metadata": {
  "kernelspec": {
   "display_name": "Example01",
   "language": "python",
   "name": "python3"
  },
  "language_info": {
   "codemirror_mode": {
    "name": "ipython",
    "version": 3
   },
   "file_extension": ".py",
   "mimetype": "text/x-python",
   "name": "python",
   "nbconvert_exporter": "python",
   "pygments_lexer": "ipython3",
   "version": "3.12.11"
  }
 },
 "nbformat": 4,
 "nbformat_minor": 5
}
