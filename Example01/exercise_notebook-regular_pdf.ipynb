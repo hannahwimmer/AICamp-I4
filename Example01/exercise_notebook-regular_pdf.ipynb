{
 "cells": [
  {
   "cell_type": "markdown",
   "id": "20455261",
   "metadata": {},
   "source": [
    "# Simple PDF Analyzer (any PDF)\n",
    "\n",
    "The following sections will demonstrate how to:\n",
    "1. load a standard PDF (i.e., an article, a scientific paper, etc.)\n",
    "2. extract continuous text from it using PyPDF2\n",
    "3. summarize the information with a small LLM\n",
    "\n",
    "Here's how we do it."
   ]
  },
  {
   "cell_type": "markdown",
   "id": "59f17074",
   "metadata": {},
   "source": [
    "## Loading a PDF file\n",
    "\n",
    "First off, we need to somehow read the PDF into Python. To do that, we'll again use [PyPDF2](https://pypdf2.readthedocs.io/en/3.0.0/modules/PdfReader.html#PyPDF2.PdfReader).\n",
    "In contrast to before, we don't have fields now, though. We thus need to treat the text differently.\n",
    "\n",
    "Here's how that looks like:"
   ]
  },
  {
   "cell_type": "code",
   "execution_count": 1,
   "id": "d539e06e",
   "metadata": {},
   "outputs": [
    {
     "ename": "ModuleNotFoundError",
     "evalue": "No module named 'PyPDF2'",
     "output_type": "error",
     "traceback": [
      "\u001b[31m---------------------------------------------------------------------------\u001b[39m",
      "\u001b[31mModuleNotFoundError\u001b[39m                       Traceback (most recent call last)",
      "\u001b[36mCell\u001b[39m\u001b[36m \u001b[39m\u001b[32mIn[1]\u001b[39m\u001b[32m, line 1\u001b[39m\n\u001b[32m----> \u001b[39m\u001b[32m1\u001b[39m \u001b[38;5;28;01mfrom\u001b[39;00m\u001b[38;5;250m \u001b[39m\u001b[34;01mPyPDF2\u001b[39;00m\u001b[38;5;250m \u001b[39m\u001b[38;5;28;01mimport\u001b[39;00m PdfReader\n\u001b[32m      3\u001b[39m pdf_path = \u001b[33m\"\u001b[39m\u001b[33mdata/Why Dashboarding is Amazing.pdf\u001b[39m\u001b[33m\"\u001b[39m\n\u001b[32m      4\u001b[39m reader = PdfReader(pdf_path)\n",
      "\u001b[31mModuleNotFoundError\u001b[39m: No module named 'PyPDF2'"
     ]
    }
   ],
   "source": [
    "from PyPDF2 import PdfReader\n",
    "\n",
    "pdf_path = \"data/Why Dashboarding is Amazing.pdf\"\n",
    "reader = PdfReader(pdf_path)\n",
    "text = \"\"\n",
    "\n",
    "# the PdfReader instance does not have fields now, but it has pages which we extract text from:\n",
    "for page in reader.pages:\n",
    "    page_text = page.extract_text()\n",
    "    if page_text:\n",
    "        text += page_text + \"\\n\"\n",
    "\n",
    "print(text)\n"
   ]
  },
  {
   "cell_type": "markdown",
   "id": "3f8b7043",
   "metadata": {},
   "source": [
    "Nice. Now we loaded the entire text from the pdf into python. Issue, though: it's all\n",
    "one big string. \n",
    "\n",
    "If we had to analyze a lot of scientific papers, though, we'd rather like to know what\n",
    "the text of the individual sections is (Introduction, Methods, etc.).\n",
    "To do that, we'll use the `re` package offering all kinds of regex methods.\n",
    "\n",
    "Here's how we can 'skim' the text according to predefined keywords."
   ]
  },
  {
   "cell_type": "code",
   "execution_count": 3,
   "id": "6401e92c",
   "metadata": {},
   "outputs": [
    {
     "name": "stdout",
     "output_type": "stream",
     "text": [
      "0, 5\n",
      "Hello\n"
     ]
    }
   ],
   "source": [
    "# a general example: how to use regex!\n",
    "import re\n",
    "\n",
    "example_sentence = \"Hello, my name is Hannah.\"\n",
    "match = re.search(\"Hello\", example_sentence)\n",
    "\n",
    "# now we want to know the characters' indices in the sentence!\n",
    "match_start, match_end = match.span()\n",
    "match_word = example_sentence[match_start:match_end]\n",
    "print(str(match_start) + \", \" + str(match_end))\n",
    "print(match_word)\n",
    "\n",
    "# What about typos?\n",
    "# What about upper- or lowercase words?\n",
    "# What about if there is no match?"
   ]
  },
  {
   "cell_type": "code",
   "execution_count": 4,
   "id": "437b8586",
   "metadata": {},
   "outputs": [
    {
     "name": "stdout",
     "output_type": "stream",
     "text": [
      "21, 29\n",
      "Abstract\n",
      "50, 60\n",
      "Discussion\n"
     ]
    }
   ],
   "source": [
    "# now a bit more specific: what if we look for more than one word?\n",
    "\n",
    "example_sentence = \"The text contains an Abstract, an abstract, and a Discussion.\"\n",
    "matches = re.finditer(\"Abstract|Introduction|Discussion\", example_sentence)\n",
    "\n",
    "for match in matches:\n",
    "    match_start, match_end = match.span()\n",
    "    match_word = example_sentence[match_start:match_end]\n",
    "    print(str(match_start) + \", \" + str(match_end))\n",
    "    print(match_word)"
   ]
  },
  {
   "cell_type": "code",
   "execution_count": 7,
   "id": "8485eb63",
   "metadata": {},
   "outputs": [
    {
     "name": "stdout",
     "output_type": "stream",
     "text": [
      "-----------match 0-----------\n",
      "0, 2\n",
      "No\n",
      "-----------match 1-----------\n",
      "4, 6\n",
      "No\n"
     ]
    }
   ],
   "source": [
    "# What if our keyword is ambiguous?\n",
    "\n",
    "example_sentence = \"No. Nothing's wrong with him.\"\n",
    "matches = re.finditer(\"No\", example_sentence)\n",
    "\n",
    "for m, match in enumerate(matches):\n",
    "    match_start, match_end = match.span()\n",
    "    match_word = example_sentence[match_start:match_end]\n",
    "    print(f\"-----------match {m}-----------\")\n",
    "    print(str(match_start) + \", \" + str(match_end))\n",
    "    print(match_word)\n",
    "\n",
    "# How to fix such cases?"
   ]
  },
  {
   "cell_type": "code",
   "execution_count": 9,
   "id": "601f419b",
   "metadata": {},
   "outputs": [
    {
     "name": "stdout",
     "output_type": "stream",
     "text": [
      "-----------match 0-----------\n",
      "0, 2\n",
      "No\n"
     ]
    }
   ],
   "source": [
    "# -> we explicitly look for a \"No\" between two word borders \\b\n",
    "example_sentence = \"No. Nothing's wrong with him.\"\n",
    "matches = re.finditer(r\"\\bNo\\b\", example_sentence)\n",
    "\n",
    "for m, match in enumerate(matches):\n",
    "    match_start, match_end = match.span()\n",
    "    match_word = example_sentence[match_start:match_end]\n",
    "    print(f\"-----------match {m}-----------\")\n",
    "    print(str(match_start) + \", \" + str(match_end))\n",
    "    print(match_word)"
   ]
  },
  {
   "cell_type": "code",
   "execution_count": 10,
   "id": "204f1ec1",
   "metadata": {},
   "outputs": [
    {
     "name": "stdout",
     "output_type": "stream",
     "text": [
      "------normal string------\n",
      "Hello \n",
      " World\n",
      "------raw string------\n",
      "Hello \\n World\n"
     ]
    }
   ],
   "source": [
    "# how does that work? some differences between normal and raw strings:\n",
    "print(\"------normal string------\")\n",
    "print(\"Hello \\n World\")\n",
    "print(\"------raw string------\")\n",
    "print(r\"Hello \\n World\")"
   ]
  },
  {
   "cell_type": "code",
   "execution_count": 11,
   "id": "1fe604b3",
   "metadata": {},
   "outputs": [],
   "source": [
    "import re\n",
    "import pandas as pd\n",
    "\n",
    "# find keyword matches\n",
    "SECTION_PATTERN = \"Abstract|Introduction|Methods|Discussion|Conclusion\"\n",
    "matches = re.finditer(SECTION_PATTERN, text)\n",
    "matches = list(matches)\n",
    "\n",
    "# find text sections\n",
    "sections = {}\n",
    "for m, match in enumerate(matches):\n",
    "\n",
    "    section_name = match.group(0)\n",
    "    start = match.end()    \n",
    "    end = matches[m + 1].start() if m + 1 < len(matches) else len(text)\n",
    "\n",
    "    # capture any text before the first section as 'Title'\n",
    "    if m == 0:  \n",
    "        title = text[:match.start()].strip()\n",
    "        if title:\n",
    "            sections[\"Title\"] = title\n",
    "    section_text = text[start:end].strip()\n",
    "    sections[section_name] = section_text"
   ]
  },
  {
   "cell_type": "code",
   "execution_count": 12,
   "id": "370302fe",
   "metadata": {},
   "outputs": [
    {
     "name": "stdout",
     "output_type": "stream",
     "text": [
      "{'Title': 'Why Dashboarding is Amazing: Unlocking the Power of \\nPython for Real-Time Insight and Communication', 'Abstract': 'In today’s data-driven world, the ability to interact with data in real time is not a luxury — it’s a necessity. \\nTraditional static reports, spreadsheets, and even conventional business intelligence tools often fall short in \\ndelivering the agility, clarity, and actionable insights required for modern decision-making. Dashboards bridge \\nthis gap by o Ưering interactive visualizations, real -time data exploration, and immediate feedback on key \\nmetrics. They empower users to not only view data but actively engage with it, uncovering insights that might \\notherwise remain hidden. Python, a dominant language in data science, o Ưers frameworks that make \\ndashboarding accessible, e Ưicient, and highly customizable. These tools streamline the translation of complex \\ndatasets into intuitive visual representations, enhancing comprehension and decision-making across technical \\nand non-technical stakeholders. This report delves into the role of dashboarding in modern organizations, \\nhighlighting the growing prominence of the Streamlit framework, and demonstrating how these solutions \\ntransform workﬂows, democratize access to data, foster collaboration, and improve overall organizational \\neƯiciency. Furthermore, we explore best practices in designing dashboards that balance intera ctivity, usability, \\nand data accuracy, while minimizing cognitive overload for the end user. Emphasis is placed on maintaining \\nﬂexibility to accommodate evolving business requirements and integrating dashboards seamlessly into existing \\ntechnological ecosystems. Through multiple examples, this report illustrates the tangible beneﬁts of \\ndashboards in real-world scenarios, emphasizing their potential to revolutionize how decisions are made and \\ncommunicated within organizations.', 'Introduction': 'Modern organizations are inundated with vast amounts of data generated from internal operations, external \\ninteractions, and digital channels. While raw data is plentiful, actionable insight remains scarce. Analysts, data \\nscientists, and business managers often face the challenge of converting complex datasets into formats that \\nare understandable, timely, and usable for decision-making. Traditional reporting methods, including static \\nreports, spreadsheets, and slide decks, frequently fail to communicate insi ghts eƯectively. They lack \\ninteractivity, require signiﬁcant manual e Ưort, and are often inaccessible to stakeholders without technical \\nexpertise. Dashboards o Ưer a solution by providing a visual, interactive interface to the data, enabling both \\ntechnical and non-technical users to explore trends, identify anomalies, and make informed decisions quickly. \\nBy enabling real-time interaction with data, dashboards foster ownership, engagement, and a more profound \\nunderstanding of insights. The adoption of Python-based frameworks such as Streamlit further simpliﬁes this \\nprocess, allowing organizations to leverage existing analytical skills to build interactive applications without \\nheavy reliance on front-end development knowledge. Beyond individual productivity, dashboards facilitate \\ncross-departmental collaboration, aligning stakeholders around a single source of truth. In this section, we \\nexplore the conceptual foundations of dashboarding, its historical development, and its role in modern \\nenterprise workﬂows, highlighting the ways in which dashboards can shift organizational culture toward more \\ndata-driven, responsive practices.', 'Methods': 'Among the tools available for dashboarding in Python, Streamlit stands out for its accessibility, speed, and \\nminimal learning curve. Unlike traditional web frameworks that require HTML, CSS, and JavaScript knowledge, \\nStreamlit allows users to create interactive dashboards using only Python. Users can implement features such \\nas sliders, dropdowns, ﬁle uploads, text inputs, and real-time charts with concise and readable code. Data \\nvisualizations automatically update in response to user inputs, enabling iterative exploration without the need \\nfor page refreshes. Streamlit integrates seamlessly with popular data science libraries including pandas for data \\nmanipulation, NumPy for numerical computations, Matplotlib, Seaborn, and Plotly for visualizations, and \\nscikit-learn for machine learning applications. This allows developers to combine analytics, modeling, and \\nvisualization into a single interactive interface. \\nFor example, a sales dashboard could combine a pandas DataFrame of monthly sales data with Plotly \\nvisualizations to create interactive bar charts and line graphs. Users could ﬁlter by region or product category \\nand immediately observe trends or anomalies. Similarly, HR dashboards can track employee engagement, \\novertime hours, and departmental performance metrics, o Ưering managers an at -a-glance view that informs \\nstrategic decisions. In addition to visualization, Streamlit supports data input and processing workﬂows, \\nmaking it possible to build dashboards that collect and process user inputs in real time, such as scenario \\nsimulations, what-if analyses, or predictive model adjustments. \\nBeyond functionality, e Ưective dashboards require thoughtful design. Layout, color usage, and information \\nhierarchy must be optimized to prevent cognitive overload. Best practices include highlighting key performance \\nindicators (KPIs), grouping related metrics, providing contextual explanations, and incorporating interactivity to \\nallow users to drill down into details as needed.', 'Discussion': 'The real value of dashboarding lies in the way it reshapes how organizations interact with data. A dashboard is \\nmore than just a collection of charts; it is an interface for thought. By surfacing key metrics in a visual and \\ninteractive form, dashboards help users spot patterns, detect anomalies, and understand relationships they \\nmight otherwise miss. They reduce cognitive load and replace raw tables with intuitive insights. \\nDashboards also dramatically accelerate the pace of decision-making. Instead of waiting for weekly reports or \\nmanual updates, teams can consult live data and adjust ﬁlters to get answers immediately. This responsiveness \\nreduces friction and encourages a more agile, data-informed culture. \\nPerhaps even more importantly, dashboards foster collaboration. When analysts and stakeholders gather \\naround the same interface, discussions become more grounded and productive. Data no longer needs to be \\ninterpreted and reinterpreted across teams; the visualization speaks for itself. This transparency builds trust \\nand helps teams around shared truths. \\nStreamlit enables this transformation by making dashboarding accessible to anyone who can write Python. It \\nshortens the distance between analysis and application, allowing ideas to be tested and shared in hours \\ninstead of weeks. The ease of use lowers the barrier to experimentation, encouraging more people within an \\norganization to build tools that reﬂect their domain knowledge and operational needs. \\nIn practice, this means fewer emails, fewer attachments, and far more clarity. A Streamlit app can replace a \\ndozen versions of a spreadsheet, ensuring that everyone is always looking at the most up-to-date data. It can \\nsimplify compliance monitoring, performance tracking, sales reporting, or machine learning model inspection \\n— all through a clean, customizable interface.', 'Conclusion': 'The future of data communication lies in interactivity, accessibility, and continuous engagement. Dashboards \\nare more than reporting tools—they are transformative interfaces that empower organizations to act on insights \\neƯiciently and conﬁdently. By prov iding real-time access to curated metrics, fostering transparency, and \\nfacilitating collaboration, dashboards enhance both operational e Ưiciency and strategic decision -making. \\nPython and frameworks like Streamlit make building interactive, engaging, and robust dashboards feasible for \\norganizations of all sizes, with minimal barriers to entry. \\nIn practice, dashboards replace static reports with dynamic, living interfaces, allowing stakeholders to monitor \\nperformance, explore scenarios, and react quickly to changing conditions. Whether for internal operations, \\nresearch, or customer-facing analytics, dashboards help bridge the gap between data and action. They \\nenhance organizational learning, improve accountability, and support innovation by allowing teams to test \\nhypotheses and iterate rapidly. As datasets continue to grow in volume, complexity, and velocity, dashboards \\nwill become essential tools for capturing insights, informing decisions, and communicating results e Ưectively. \\nFuture directions include integrating dashboards with machine learning pipelines for predictive insights, \\nenabling natural language queries to interact with datasets, and incorporating automated recommendations. \\nThese advances promise to make dashboards even more central to data-driven decision-making, creating \\nenvironments where individuals and organizations can make faster, more conﬁdent, and more informed \\nchoices. By transforming raw data into actionable intelligence, dashboards empower organizations to leverage \\ndata as a strategic asset, driving competitive advantage, operational excellence, and innovation across all \\ndomains.'}\n"
     ]
    }
   ],
   "source": [
    "print(sections)"
   ]
  },
  {
   "cell_type": "code",
   "execution_count": 13,
   "id": "023c2e0c",
   "metadata": {},
   "outputs": [
    {
     "name": "stdout",
     "output_type": "stream",
     "text": [
      "There's quite a lot you can do with apples.\n",
      "There's quite a lot you can do with regex.\n"
     ]
    }
   ],
   "source": [
    "# that's not all we can do with regex. we can also exchange words with other words:\n",
    "\n",
    "example_sentence = \"There's quite a lot you can do with apples.\"\n",
    "print(example_sentence)\n",
    "\n",
    "fixed_sentence = re.sub(\"apples\", \"regex\", example_sentence)\n",
    "print(fixed_sentence)"
   ]
  },
  {
   "cell_type": "markdown",
   "id": "b4c06a92",
   "metadata": {},
   "source": [
    "Nice! Now we successfully extracted text from the pdf section by section. \n",
    "An issue, though: the formatting is quite strange with \\n (newline character in regex)\n",
    "etc. in there. We want to remove those non-text characters.\n",
    "\n",
    "Here's how we do that."
   ]
  },
  {
   "cell_type": "code",
   "execution_count": 14,
   "id": "e6542501",
   "metadata": {},
   "outputs": [
    {
     "name": "stdout",
     "output_type": "stream",
     "text": [
      "{'Title': 'Why Dashboarding is Amazing: Unlocking the Power of Python for Real-Time Insight and Communication', 'Abstract': 'In today’s data-driven world, the ability to interact with data in real time is not a luxury — it’s a necessity. Traditional static reports, spreadsheets, and even conventional business intelligence tools often fall short in delivering the agility, clarity, and actionable insights required for modern decision-making. Dashboards bridge this gap by o Ưering interactive visualizations, real -time data exploration, and immediate feedback on key metrics. They empower users to not only view data but actively engage with it, uncovering insights that might otherwise remain hidden. Python, a dominant language in data science, o Ưers frameworks that make dashboarding accessible, e Ưicient, and highly customizable. These tools streamline the translation of complex datasets into intuitive visual representations, enhancing comprehension and decision-making across technical and non-technical stakeholders. This report delves into the role of dashboarding in modern organizations, highlighting the growing prominence of the Streamlit framework, and demonstrating how these solutions transform workﬂows, democratize access to data, foster collaboration, and improve overall organizational eƯiciency. Furthermore, we explore best practices in designing dashboards that balance intera ctivity, usability, and data accuracy, while minimizing cognitive overload for the end user. Emphasis is placed on maintaining ﬂexibility to accommodate evolving business requirements and integrating dashboards seamlessly into existing technological ecosystems. Through multiple examples, this report illustrates the tangible beneﬁts of dashboards in real-world scenarios, emphasizing their potential to revolutionize how decisions are made and communicated within organizations.', 'Introduction': 'Modern organizations are inundated with vast amounts of data generated from internal operations, external interactions, and digital channels. While raw data is plentiful, actionable insight remains scarce. Analysts, data scientists, and business managers often face the challenge of converting complex datasets into formats that are understandable, timely, and usable for decision-making. Traditional reporting methods, including static reports, spreadsheets, and slide decks, frequently fail to communicate insi ghts eƯectively. They lack interactivity, require signiﬁcant manual e Ưort, and are often inaccessible to stakeholders without technical expertise. Dashboards o Ưer a solution by providing a visual, interactive interface to the data, enabling both technical and non-technical users to explore trends, identify anomalies, and make informed decisions quickly. By enabling real-time interaction with data, dashboards foster ownership, engagement, and a more profound understanding of insights. The adoption of Python-based frameworks such as Streamlit further simpliﬁes this process, allowing organizations to leverage existing analytical skills to build interactive applications without heavy reliance on front-end development knowledge. Beyond individual productivity, dashboards facilitate cross-departmental collaboration, aligning stakeholders around a single source of truth. In this section, we explore the conceptual foundations of dashboarding, its historical development, and its role in modern enterprise workﬂows, highlighting the ways in which dashboards can shift organizational culture toward more data-driven, responsive practices.', 'Methods': 'Among the tools available for dashboarding in Python, Streamlit stands out for its accessibility, speed, and minimal learning curve. Unlike traditional web frameworks that require HTML, CSS, and JavaScript knowledge, Streamlit allows users to create interactive dashboards using only Python. Users can implement features such as sliders, dropdowns, ﬁle uploads, text inputs, and real-time charts with concise and readable code. Data visualizations automatically update in response to user inputs, enabling iterative exploration without the need for page refreshes. Streamlit integrates seamlessly with popular data science libraries including pandas for data manipulation, NumPy for numerical computations, Matplotlib, Seaborn, and Plotly for visualizations, and scikit-learn for machine learning applications. This allows developers to combine analytics, modeling, and visualization into a single interactive interface. For example, a sales dashboard could combine a pandas DataFrame of monthly sales data with Plotly visualizations to create interactive bar charts and line graphs. Users could ﬁlter by region or product category and immediately observe trends or anomalies. Similarly, HR dashboards can track employee engagement, overtime hours, and departmental performance metrics, o Ưering managers an at -a-glance view that informs strategic decisions. In addition to visualization, Streamlit supports data input and processing workﬂows, making it possible to build dashboards that collect and process user inputs in real time, such as scenario simulations, what-if analyses, or predictive model adjustments. Beyond functionality, e Ưective dashboards require thoughtful design. Layout, color usage, and information hierarchy must be optimized to prevent cognitive overload. Best practices include highlighting key performance indicators (KPIs), grouping related metrics, providing contextual explanations, and incorporating interactivity to allow users to drill down into details as needed.', 'Discussion': 'The real value of dashboarding lies in the way it reshapes how organizations interact with data. A dashboard is more than just a collection of charts; it is an interface for thought. By surfacing key metrics in a visual and interactive form, dashboards help users spot patterns, detect anomalies, and understand relationships they might otherwise miss. They reduce cognitive load and replace raw tables with intuitive insights. Dashboards also dramatically accelerate the pace of decision-making. Instead of waiting for weekly reports or manual updates, teams can consult live data and adjust ﬁlters to get answers immediately. This responsiveness reduces friction and encourages a more agile, data-informed culture. Perhaps even more importantly, dashboards foster collaboration. When analysts and stakeholders gather around the same interface, discussions become more grounded and productive. Data no longer needs to be interpreted and reinterpreted across teams; the visualization speaks for itself. This transparency builds trust and helps teams around shared truths. Streamlit enables this transformation by making dashboarding accessible to anyone who can write Python. It shortens the distance between analysis and application, allowing ideas to be tested and shared in hours instead of weeks. The ease of use lowers the barrier to experimentation, encouraging more people within an organization to build tools that reﬂect their domain knowledge and operational needs. In practice, this means fewer emails, fewer attachments, and far more clarity. A Streamlit app can replace a dozen versions of a spreadsheet, ensuring that everyone is always looking at the most up-to-date data. It can simplify compliance monitoring, performance tracking, sales reporting, or machine learning model inspection — all through a clean, customizable interface.', 'Conclusion': 'The future of data communication lies in interactivity, accessibility, and continuous engagement. Dashboards are more than reporting tools—they are transformative interfaces that empower organizations to act on insights eƯiciently and conﬁdently. By prov iding real-time access to curated metrics, fostering transparency, and facilitating collaboration, dashboards enhance both operational e Ưiciency and strategic decision -making. Python and frameworks like Streamlit make building interactive, engaging, and robust dashboards feasible for organizations of all sizes, with minimal barriers to entry. In practice, dashboards replace static reports with dynamic, living interfaces, allowing stakeholders to monitor performance, explore scenarios, and react quickly to changing conditions. Whether for internal operations, research, or customer-facing analytics, dashboards help bridge the gap between data and action. They enhance organizational learning, improve accountability, and support innovation by allowing teams to test hypotheses and iterate rapidly. As datasets continue to grow in volume, complexity, and velocity, dashboards will become essential tools for capturing insights, informing decisions, and communicating results e Ưectively. Future directions include integrating dashboards with machine learning pipelines for predictive insights, enabling natural language queries to interact with datasets, and incorporating automated recommendations. These advances promise to make dashboards even more central to data-driven decision-making, creating environments where individuals and organizations can make faster, more conﬁdent, and more informed choices. By transforming raw data into actionable intelligence, dashboards empower organizations to leverage data as a strategic asset, driving competitive advantage, operational excellence, and innovation across all domains.'}\n"
     ]
    }
   ],
   "source": [
    "for key, value in sections.items():\n",
    "    # remove newline characters\n",
    "    value = re.sub(r\"\\n\", \" \", value)\n",
    "\n",
    "    # additionally, strip multiple spaces\n",
    "    value = re.sub(r\"\\s+\", \" \", value)\n",
    "    \n",
    "    sections[key] = value\n",
    "print(sections)"
   ]
  },
  {
   "cell_type": "markdown",
   "id": "ccf98371",
   "metadata": {},
   "source": [
    "## Summarizing the text\n",
    "\n",
    "We successfully extracted text from the PDF and maintained the section structure. Now,\n",
    "we want to use an LLM to summarize the section text for us because we don't have much\n",
    "time to read everything that's going on in there.\n",
    "\n",
    "Here's how we do this."
   ]
  },
  {
   "cell_type": "code",
   "execution_count": 18,
   "id": "d11a9fff",
   "metadata": {},
   "outputs": [
    {
     "name": "stdout",
     "output_type": "stream",
     "text": [
      "Here's one that's sure to bring a smile:\n",
      "\n",
      "What do you call a fake noodle?\n",
      "\n",
      "An impasta.\n"
     ]
    }
   ],
   "source": [
    "# how to work with an LLM: using ollama's llama3.2.1b model locally\n",
    "from ollama import chat, ChatResponse\n",
    "\n",
    "input_sentence = \"Hi, please tell us a joke.\"\n",
    "response: ChatResponse = chat(\n",
    "        model='llama3.2:1b', \n",
    "        messages=[{'role': 'user', 'content': input_sentence}])\n",
    "print(response.message.content)"
   ]
  },
  {
   "cell_type": "code",
   "execution_count": 23,
   "id": "6a8d7ff9",
   "metadata": {},
   "outputs": [
    {
     "name": "stdout",
     "output_type": "stream",
     "text": [
      "Your Majesty, I'm happy to oblige your request. However, I must remind Your Highness that jests are often shared among the nobility and upper classes, but may not be suitable for your more...refined audience. Nevertheless, I shall endeavor to present a jest of moderate levity.\n",
      "\n",
      "Why did the cardinal's vestments go to therapy? Because they were feeling a little \"folded\" under the pressure! (The cardinal, it is said, was quite taken aback by this pun, but attempted to maintain a stiff upper lip.)\n",
      "\n",
      "May I suggest another one, Your Majesty?\n"
     ]
    }
   ],
   "source": [
    "# now with a prompt specifying how the model should behave:\n",
    "input_sentence = \"Hi, please tell us a joke.\"\n",
    "prompt = \"Reply to the following sentence as if you were a servant at court: \"\n",
    "response: ChatResponse = chat(\n",
    "        model='llama3.2:1b', \n",
    "        messages=[{'role': 'user', 'content': prompt + input_sentence}])\n",
    "print(response.message.content)"
   ]
  },
  {
   "cell_type": "code",
   "execution_count": null,
   "id": "fa94c657",
   "metadata": {},
   "outputs": [],
   "source": [
    "from ollama import chat, ChatResponse\n",
    "\n",
    "# define a prompt for the LLM\n",
    "prompt = f\"\"\"Summarize the following text. Do not verify facts, and do not add\n",
    "    commentary. Only output a concise summary in three sentences maximum.\"\"\"\n",
    "\n",
    "# initialize an empty list for the model's section summaries\n",
    "summaries = []\n",
    "dataframe = pd.DataFrame([sections])\n",
    "for col in dataframe.columns:\n",
    "\n",
    "    # fetch the content of the specific column's first row\n",
    "    text = dataframe[col].iloc[0]   \n",
    "\n",
    "    # have the LLM (model: llama3.2:1b) summarize the text\n",
    "    response: ChatResponse = chat(\n",
    "        model='llama3.2:1b', \n",
    "        messages=[{'role': 'user', 'content': prompt + text}])\n",
    "    result = response[\"message\"][\"content\"]\n",
    "\n",
    "    # sometimes, the model adds a Chat-GPT-like 'Here is an output for ...' to the \n",
    "    # beginning of its response - if that's the case, we have it run again until we\n",
    "    # get a response without that precursor (not the most efficient solution, but works).\n",
    "    while result.startswith(\"Here is\"):\n",
    "        response: ChatResponse = chat(\n",
    "            model='llama3.2:1b', \n",
    "            messages=[{'role': 'user', 'content': prompt + text}])\n",
    "        result = response[\"message\"][\"content\"]\n",
    "\n",
    "    summaries.append(result)\n",
    "\n",
    "# add the summaries to the sections dataframe as a second row\n",
    "summary_df = pd.concat([dataframe, pd.DataFrame([summaries], columns=dataframe.columns)], axis=0)\n",
    "summary_df.index = [\"Original Text\", \"Summary\"]\n"
   ]
  },
  {
   "cell_type": "markdown",
   "id": "43697e15",
   "metadata": {},
   "source": [
    "Takes quite long (~5 minutes...) but in the end the results are quite nice.\n",
    "Sometimes, the model is unable to stick to the 'at most three sentences' prompt and\n",
    "gives longer answers; that's because the model is quite small and context tends to get\n",
    "overlooked for long text inputs. It's quite okay for our purposes, though!"
   ]
  },
  {
   "cell_type": "code",
   "execution_count": 11,
   "id": "2c084cd4",
   "metadata": {},
   "outputs": [
    {
     "data": {
      "application/vnd.microsoft.datawrangler.viewer.v0+json": {
       "columns": [
        {
         "name": "index",
         "rawType": "object",
         "type": "string"
        },
        {
         "name": "Title",
         "rawType": "object",
         "type": "string"
        },
        {
         "name": "Abstract",
         "rawType": "object",
         "type": "string"
        },
        {
         "name": "Introduction",
         "rawType": "object",
         "type": "string"
        },
        {
         "name": "Methods",
         "rawType": "object",
         "type": "string"
        },
        {
         "name": "Discussion",
         "rawType": "object",
         "type": "string"
        },
        {
         "name": "Conclusion",
         "rawType": "object",
         "type": "string"
        }
       ],
       "ref": "cd846084-8aa0-4f4f-8e36-451bfee4950e",
       "rows": [
        [
         "Original Text",
         "Why Dashboarding is Amazing: Unlocking the Power of Python for Real-Time Insight and Communication",
         "In today’s data-driven world, the ability to interact with data in real time is not a luxury — it’s a necessity. Traditional static reports, spreadsheets, and even conventional business intelligence tools often fall short in delivering the agility, clarity, and actionable insights required for modern decision-making. Dashboards bridge this gap by o Ưering interactive visualizations, real -time data exploration, and immediate feedback on key metrics. They empower users to not only view data but actively engage with it, uncovering insights that might otherwise remain hidden. Python, a dominant language in data science, o Ưers frameworks that make dashboarding accessible, e Ưicient, and highly customizable. These tools streamline the translation of complex datasets into intuitive visual representations, enhancing comprehension and decision-making across technical and non-technical stakeholders. This report delves into the role of dashboarding in modern organizations, highlighting the growing prominence of the Streamlit framework, and demonstrating how these solutions transform workﬂows, democratize access to data, foster collaboration, and improve overall organizational eƯiciency. Furthermore, we explore best practices in designing dashboards that balance intera ctivity, usability, and data accuracy, while minimizing cognitive overload for the end user. Emphasis is placed on maintaining ﬂexibility to accommodate evolving business requirements and integrating dashboards seamlessly into existing technological ecosystems. Through multiple examples, this report illustrates the tangible beneﬁts of dashboards in real-world scenarios, emphasizing their potential to revolutionize how decisions are made and communicated within organizations.",
         "Modern organizations are inundated with vast amounts of data generated from internal operations, external interactions, and digital channels. While raw data is plentiful, actionable insight remains scarce. Analysts, data scientists, and business managers often face the challenge of converting complex datasets into formats that are understandable, timely, and usable for decision-making. Traditional reporting methods, including static reports, spreadsheets, and slide decks, frequently fail to communicate insi ghts eƯectively. They lack interactivity, require signiﬁcant manual e Ưort, and are often inaccessible to stakeholders without technical expertise. Dashboards o Ưer a solution by providing a visual, interactive interface to the data, enabling both technical and non-technical users to explore trends, identify anomalies, and make informed decisions quickly. By enabling real-time interaction with data, dashboards foster ownership, engagement, and a more profound understanding of insights. The adoption of Python-based frameworks such as Streamlit further simpliﬁes this process, allowing organizations to leverage existing analytical skills to build interactive applications without heavy reliance on front-end development knowledge. Beyond individual productivity, dashboards facilitate cross-departmental collaboration, aligning stakeholders around a single source of truth. In this section, we explore the conceptual foundations of dashboarding, its historical development, and its role in modern enterprise workﬂows, highlighting the ways in which dashboards can shift organizational culture toward more data-driven, responsive practices.",
         "Among the tools available for dashboarding in Python, Streamlit stands out for its accessibility, speed, and minimal learning curve. Unlike traditional web frameworks that require HTML, CSS, and JavaScript knowledge, Streamlit allows users to create interactive dashboards using only Python. Users can implement features such as sliders, dropdowns, ﬁle uploads, text inputs, and real-time charts with concise and readable code. Data visualizations automatically update in response to user inputs, enabling iterative exploration without the need for page refreshes. Streamlit integrates seamlessly with popular data science libraries including pandas for data manipulation, NumPy for numerical computations, Matplotlib, Seaborn, and Plotly for visualizations, and scikit-learn for machine learning applications. This allows developers to combine analytics, modeling, and visualization into a single interactive interface. For example, a sales dashboard could combine a pandas DataFrame of monthly sales data with Plotly visualizations to create interactive bar charts and line graphs. Users could ﬁlter by region or product category and immediately observe trends or anomalies. Similarly, HR dashboards can track employee engagement, overtime hours, and departmental performance metrics, o Ưering managers an at -a-glance view that informs strategic decisions. In addition to visualization, Streamlit supports data input and processing workﬂows, making it possible to build dashboards that collect and process user inputs in real time, such as scenario simulations, what-if analyses, or predictive model adjustments. Beyond functionality, e Ưective dashboards require thoughtful design. Layout, color usage, and information hierarchy must be optimized to prevent cognitive overload. Best practices include highlighting key performance indicators (KPIs), grouping related metrics, providing contextual explanations, and incorporating interactivity to allow users to drill down into details as needed.",
         "The real value of dashboarding lies in the way it reshapes how organizations interact with data. A dashboard is more than just a collection of charts; it is an interface for thought. By surfacing key metrics in a visual and interactive form, dashboards help users spot patterns, detect anomalies, and understand relationships they might otherwise miss. They reduce cognitive load and replace raw tables with intuitive insights. Dashboards also dramatically accelerate the pace of decision-making. Instead of waiting for weekly reports or manual updates, teams can consult live data and adjust ﬁlters to get answers immediately. This responsiveness reduces friction and encourages a more agile, data-informed culture. Perhaps even more importantly, dashboards foster collaboration. When analysts and stakeholders gather around the same interface, discussions become more grounded and productive. Data no longer needs to be interpreted and reinterpreted across teams; the visualization speaks for itself. This transparency builds trust and helps teams around shared truths. Streamlit enables this transformation by making dashboarding accessible to anyone who can write Python. It shortens the distance between analysis and application, allowing ideas to be tested and shared in hours instead of weeks. The ease of use lowers the barrier to experimentation, encouraging more people within an organization to build tools that reﬂect their domain knowledge and operational needs. In practice, this means fewer emails, fewer attachments, and far more clarity. A Streamlit app can replace a dozen versions of a spreadsheet, ensuring that everyone is always looking at the most up-to-date data. It can simplify compliance monitoring, performance tracking, sales reporting, or machine learning model inspection — all through a clean, customizable interface.",
         "The future of data communication lies in interactivity, accessibility, and continuous engagement. Dashboards are more than reporting tools—they are transformative interfaces that empower organizations to act on insights eƯiciently and conﬁdently. By prov iding real-time access to curated metrics, fostering transparency, and facilitating collaboration, dashboards enhance both operational e Ưiciency and strategic decision -making. Python and frameworks like Streamlit make building interactive, engaging, and robust dashboards feasible for organizations of all sizes, with minimal barriers to entry. In practice, dashboards replace static reports with dynamic, living interfaces, allowing stakeholders to monitor performance, explore scenarios, and react quickly to changing conditions. Whether for internal operations, research, or customer-facing analytics, dashboards help bridge the gap between data and action. They enhance organizational learning, improve accountability, and support innovation by allowing teams to test hypotheses and iterate rapidly. As datasets continue to grow in volume, complexity, and velocity, dashboards will become essential tools for capturing insights, informing decisions, and communicating results e Ưectively. Future directions include integrating dashboards with machine learning pipelines for predictive insights, enabling natural language queries to interact with datasets, and incorporating automated recommendations. These advances promise to make dashboards even more central to data-driven decision-making, creating environments where individuals and organizations can make faster, more conﬁdent, and more informed choices. By transforming raw data into actionable intelligence, dashboards empower organizations to leverage data as a strategic asset, driving competitive advantage, operational excellence, and innovation across all domains."
        ],
        [
         "Summary",
         "Dashboarding allows users to easily view and interact with data, providing real-time insights into business performance.\n\nThe use of dashboarding enables effective communication among team members and stakeholders about key performance indicators (KPIs) and metrics.\n\nBy creating a clear visual representation of data, dashboarding facilitates quick analysis and decision-making in various industries.",
         "Dashboarding is a crucial tool for modern decision-making, providing interactive visualizations, real-time data exploration, and immediate feedback on key metrics. Python frameworks make dashboarding accessible and customizable, allowing users to engage with data and uncover insights that might otherwise remain hidden. By streamlining the translation of complex datasets into intuitive visual representations, dashboards enhance comprehension and decision-making across stakeholders, ultimately improving organizational efficiency.",
         "Modern organizations have vast amounts of data generated from various sources but struggle to convert it into actionable insights for decision-making. Traditional reporting methods are often ineffective due to lack of interactivity and accessibility to stakeholders without technical expertise. Dashboards provide a visual, interactive interface to data, enabling both technical and non-technical users to explore trends and make informed decisions quickly.",
         "Streamlit is a tool for dashboarding in Python that allows users to create interactive dashboards with minimal learning curve, integrating popular data science libraries such as pandas, NumPy, Matplotlib, Seaborn, Plotly, and scikit-learn.\n\nStreamlit's features include support for data input and processing workﬂows, real-time visualization of user inputs, and the ability to combine analytics, modeling, and visualization into a single interface. It also includes tools for effective dashboard design such as layout optimization, color usage, and contextual explanations.\n\nUsers can create dashboards using Streamlit's concise and readable code, with the option to implement features such as sliders, dropdowns, file uploads, text inputs, and real-time charts.",
         "A dashboard reshapes how organizations interact with data by surfacing key metrics in a visual and interactive form, reducing cognitive load and accelerating decision-making. Dashboards foster collaboration and transparency by providing a shared interface for analysts and stakeholders to discuss insights and reach shared truths. Streamlit enables the transformation of dashboarding into an accessible tool that lowers barriers to experimentation and encourages team members to build customized solutions based on their domain knowledge and operational needs.",
         "Data communication's future lies in interactive and accessible interfaces that enable organizations to act on insights effectively and confidently. Dashboards provide real-time access to metrics, transparency, and collaboration opportunities, enhancing operational efficiency and strategic decision-making. By integrating with various tools like Python and frameworks like Streamlit, dashboards can be built by all sizes of organizations, making it easier for stakeholders to monitor performance, explore scenarios, and react quickly to changing conditions."
        ]
       ],
       "shape": {
        "columns": 6,
        "rows": 2
       }
      },
      "text/html": [
       "<div>\n",
       "<style scoped>\n",
       "    .dataframe tbody tr th:only-of-type {\n",
       "        vertical-align: middle;\n",
       "    }\n",
       "\n",
       "    .dataframe tbody tr th {\n",
       "        vertical-align: top;\n",
       "    }\n",
       "\n",
       "    .dataframe thead th {\n",
       "        text-align: right;\n",
       "    }\n",
       "</style>\n",
       "<table border=\"1\" class=\"dataframe\">\n",
       "  <thead>\n",
       "    <tr style=\"text-align: right;\">\n",
       "      <th></th>\n",
       "      <th>Title</th>\n",
       "      <th>Abstract</th>\n",
       "      <th>Introduction</th>\n",
       "      <th>Methods</th>\n",
       "      <th>Discussion</th>\n",
       "      <th>Conclusion</th>\n",
       "    </tr>\n",
       "  </thead>\n",
       "  <tbody>\n",
       "    <tr>\n",
       "      <th>Original Text</th>\n",
       "      <td>Why Dashboarding is Amazing: Unlocking the Pow...</td>\n",
       "      <td>In today’s data-driven world, the ability to i...</td>\n",
       "      <td>Modern organizations are inundated with vast a...</td>\n",
       "      <td>Among the tools available for dashboarding in ...</td>\n",
       "      <td>The real value of dashboarding lies in the way...</td>\n",
       "      <td>The future of data communication lies in inter...</td>\n",
       "    </tr>\n",
       "    <tr>\n",
       "      <th>Summary</th>\n",
       "      <td>Dashboarding allows users to easily view and i...</td>\n",
       "      <td>Dashboarding is a crucial tool for modern deci...</td>\n",
       "      <td>Modern organizations have vast amounts of data...</td>\n",
       "      <td>Streamlit is a tool for dashboarding in Python...</td>\n",
       "      <td>A dashboard reshapes how organizations interac...</td>\n",
       "      <td>Data communication's future lies in interactiv...</td>\n",
       "    </tr>\n",
       "  </tbody>\n",
       "</table>\n",
       "</div>"
      ],
      "text/plain": [
       "                                                           Title  \\\n",
       "Original Text  Why Dashboarding is Amazing: Unlocking the Pow...   \n",
       "Summary        Dashboarding allows users to easily view and i...   \n",
       "\n",
       "                                                        Abstract  \\\n",
       "Original Text  In today’s data-driven world, the ability to i...   \n",
       "Summary        Dashboarding is a crucial tool for modern deci...   \n",
       "\n",
       "                                                    Introduction  \\\n",
       "Original Text  Modern organizations are inundated with vast a...   \n",
       "Summary        Modern organizations have vast amounts of data...   \n",
       "\n",
       "                                                         Methods  \\\n",
       "Original Text  Among the tools available for dashboarding in ...   \n",
       "Summary        Streamlit is a tool for dashboarding in Python...   \n",
       "\n",
       "                                                      Discussion  \\\n",
       "Original Text  The real value of dashboarding lies in the way...   \n",
       "Summary        A dashboard reshapes how organizations interac...   \n",
       "\n",
       "                                                      Conclusion  \n",
       "Original Text  The future of data communication lies in inter...  \n",
       "Summary        Data communication's future lies in interactiv...  "
      ]
     },
     "execution_count": 11,
     "metadata": {},
     "output_type": "execute_result"
    }
   ],
   "source": [
    "summary_df.head()\n"
   ]
  }
 ],
 "metadata": {
  "kernelspec": {
   "display_name": "example03",
   "language": "python",
   "name": "python3"
  },
  "language_info": {
   "codemirror_mode": {
    "name": "ipython",
    "version": 3
   },
   "file_extension": ".py",
   "mimetype": "text/x-python",
   "name": "python",
   "nbconvert_exporter": "python",
   "pygments_lexer": "ipython3",
   "version": "3.12.11"
  }
 },
 "nbformat": 4,
 "nbformat_minor": 5
}
